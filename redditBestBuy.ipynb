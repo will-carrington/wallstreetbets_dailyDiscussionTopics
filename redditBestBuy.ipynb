{
  "nbformat": 4,
  "nbformat_minor": 0,
  "metadata": {
    "colab": {
      "provenance": []
    },
    "kernelspec": {
      "name": "python3",
      "display_name": "Python 3"
    },
    "language_info": {
      "name": "python"
    }
  },
  "cells": [
    {
      "cell_type": "code",
      "source": [
        "pip install praw\n"
      ],
      "metadata": {
        "colab": {
          "base_uri": "https://localhost:8080/"
        },
        "id": "dxf5B_SjOt9l",
        "outputId": "f7cbec13-7f2b-4b24-9fb6-87dd4dae489c"
      },
      "execution_count": 21,
      "outputs": [
        {
          "output_type": "stream",
          "name": "stdout",
          "text": [
            "Looking in indexes: https://pypi.org/simple, https://us-python.pkg.dev/colab-wheels/public/simple/\n",
            "Requirement already satisfied: praw in /usr/local/lib/python3.7/dist-packages (7.6.0)\n",
            "Requirement already satisfied: prawcore<3,>=2.1 in /usr/local/lib/python3.7/dist-packages (from praw) (2.3.0)\n",
            "Requirement already satisfied: websocket-client>=0.54.0 in /usr/local/lib/python3.7/dist-packages (from praw) (1.4.1)\n",
            "Requirement already satisfied: update-checker>=0.18 in /usr/local/lib/python3.7/dist-packages (from praw) (0.18.0)\n",
            "Requirement already satisfied: requests<3.0,>=2.6.0 in /usr/local/lib/python3.7/dist-packages (from prawcore<3,>=2.1->praw) (2.23.0)\n",
            "Requirement already satisfied: urllib3!=1.25.0,!=1.25.1,<1.26,>=1.21.1 in /usr/local/lib/python3.7/dist-packages (from requests<3.0,>=2.6.0->prawcore<3,>=2.1->praw) (1.24.3)\n",
            "Requirement already satisfied: idna<3,>=2.5 in /usr/local/lib/python3.7/dist-packages (from requests<3.0,>=2.6.0->prawcore<3,>=2.1->praw) (2.10)\n",
            "Requirement already satisfied: chardet<4,>=3.0.2 in /usr/local/lib/python3.7/dist-packages (from requests<3.0,>=2.6.0->prawcore<3,>=2.1->praw) (3.0.4)\n",
            "Requirement already satisfied: certifi>=2017.4.17 in /usr/local/lib/python3.7/dist-packages (from requests<3.0,>=2.6.0->prawcore<3,>=2.1->praw) (2022.6.15)\n"
          ]
        }
      ]
    },
    {
      "cell_type": "code",
      "source": [
        "pip install pyLDAvis"
      ],
      "metadata": {
        "colab": {
          "base_uri": "https://localhost:8080/"
        },
        "id": "5U1u-Pt4VeJ0",
        "outputId": "59bde7ea-f5bd-4f65-f0e5-9444c3197d02"
      },
      "execution_count": 22,
      "outputs": [
        {
          "output_type": "stream",
          "name": "stdout",
          "text": [
            "Looking in indexes: https://pypi.org/simple, https://us-python.pkg.dev/colab-wheels/public/simple/\n",
            "Requirement already satisfied: pyLDAvis in /usr/local/lib/python3.7/dist-packages (3.3.1)\n",
            "Requirement already satisfied: numpy>=1.20.0 in /usr/local/lib/python3.7/dist-packages (from pyLDAvis) (1.21.6)\n",
            "Requirement already satisfied: gensim in /usr/local/lib/python3.7/dist-packages (from pyLDAvis) (3.6.0)\n",
            "Requirement already satisfied: joblib in /usr/local/lib/python3.7/dist-packages (from pyLDAvis) (1.1.0)\n",
            "Requirement already satisfied: jinja2 in /usr/local/lib/python3.7/dist-packages (from pyLDAvis) (2.11.3)\n",
            "Requirement already satisfied: numexpr in /usr/local/lib/python3.7/dist-packages (from pyLDAvis) (2.8.3)\n",
            "Requirement already satisfied: future in /usr/local/lib/python3.7/dist-packages (from pyLDAvis) (0.16.0)\n",
            "Requirement already satisfied: pandas>=1.2.0 in /usr/local/lib/python3.7/dist-packages (from pyLDAvis) (1.3.5)\n",
            "Requirement already satisfied: funcy in /usr/local/lib/python3.7/dist-packages (from pyLDAvis) (1.17)\n",
            "Requirement already satisfied: setuptools in /usr/local/lib/python3.7/dist-packages (from pyLDAvis) (57.4.0)\n",
            "Requirement already satisfied: scikit-learn in /usr/local/lib/python3.7/dist-packages (from pyLDAvis) (1.0.2)\n",
            "Requirement already satisfied: scipy in /usr/local/lib/python3.7/dist-packages (from pyLDAvis) (1.7.3)\n",
            "Requirement already satisfied: sklearn in /usr/local/lib/python3.7/dist-packages (from pyLDAvis) (0.0)\n",
            "Requirement already satisfied: python-dateutil>=2.7.3 in /usr/local/lib/python3.7/dist-packages (from pandas>=1.2.0->pyLDAvis) (2.8.2)\n",
            "Requirement already satisfied: pytz>=2017.3 in /usr/local/lib/python3.7/dist-packages (from pandas>=1.2.0->pyLDAvis) (2022.2.1)\n",
            "Requirement already satisfied: six>=1.5 in /usr/local/lib/python3.7/dist-packages (from python-dateutil>=2.7.3->pandas>=1.2.0->pyLDAvis) (1.15.0)\n",
            "Requirement already satisfied: smart-open>=1.2.1 in /usr/local/lib/python3.7/dist-packages (from gensim->pyLDAvis) (5.2.1)\n",
            "Requirement already satisfied: MarkupSafe>=0.23 in /usr/local/lib/python3.7/dist-packages (from jinja2->pyLDAvis) (2.0.1)\n",
            "Requirement already satisfied: packaging in /usr/local/lib/python3.7/dist-packages (from numexpr->pyLDAvis) (21.3)\n",
            "Requirement already satisfied: pyparsing!=3.0.5,>=2.0.2 in /usr/local/lib/python3.7/dist-packages (from packaging->numexpr->pyLDAvis) (3.0.9)\n",
            "Requirement already satisfied: threadpoolctl>=2.0.0 in /usr/local/lib/python3.7/dist-packages (from scikit-learn->pyLDAvis) (3.1.0)\n"
          ]
        }
      ]
    },
    {
      "cell_type": "code",
      "source": [
        "import praw\n",
        "import sys\n",
        "import re, numpy as np, pandas as pd\n",
        "from pprint import pprint\n",
        "import gensim, spacy, logging, warnings\n",
        "import gensim.corpora as corpora\n",
        "from gensim.utils import simple_preprocess\n",
        "from gensim.models import CoherenceModel\n",
        "from gensim import corpora, models, similarities\n",
        "import matplotlib.pyplot as plt\n",
        "from nltk.corpus import stopwords\n",
        "import nltk\n",
        "nltk.download('stopwords')\n",
        "stop_words = stopwords.words('english')\n",
        "stop_words.extend(['from', 'subject', 're', 'edu', 'use', 'not', 'would', 'say', 'could', '_', 'be', 'know', 'good', 'go', 'get', 'do', 'done', 'try', 'many', 'some', 'nice', 'thank', 'think', 'see', 'rather', 'easy', 'easily', 'lot', 'lack', 'make', 'want', 'seem', 'run', 'need', 'even', 'right', 'line', 'even', 'also', 'may', 'take', 'come'])\n",
        "%matplotlib inline\n",
        "warnings.filterwarnings(\"ignore\",category=DeprecationWarning)\n",
        "logging.basicConfig(format='%(asctime)s : %(levelname)s : %(message)s', level=logging.ERROR)\n",
        "import requests \n",
        "import time \n",
        "import bs4\n",
        "from bs4 import BeautifulSoup\n",
        "import random\n"
      ],
      "metadata": {
        "colab": {
          "base_uri": "https://localhost:8080/"
        },
        "id": "LfCvHIKiOt6t",
        "outputId": "ef5e5487-398a-4f40-b395-09527eb9c15b"
      },
      "execution_count": 23,
      "outputs": [
        {
          "output_type": "stream",
          "name": "stderr",
          "text": [
            "[nltk_data] Downloading package stopwords to /root/nltk_data...\n",
            "[nltk_data]   Package stopwords is already up-to-date!\n"
          ]
        }
      ]
    },
    {
      "cell_type": "code",
      "source": [
        "#https://www.reddit.com/prefs/apps\n",
        "\n",
        "reddit = praw.Reddit(client_id = 'NfUTs733BtFmTbLJ7Q_1fA',client_secret = 'Cj_PSEMGJwJNAV4hvJliy-SE6qrOiQ', user_agent = 'will')\n",
        "submission = reddit.submission(url=\"https://www.reddit.com/r/wallstreetbets/comments/x9rf74/daily_discussion_thread_for_september_09_2022/\")\n",
        "\n"
      ],
      "metadata": {
        "id": "85xPnVuEOt4H"
      },
      "execution_count": 24,
      "outputs": []
    },
    {
      "cell_type": "code",
      "source": [
        "text = []\n",
        "from praw.models import MoreComments\n",
        "for top_level_comment in submission.comments:\n",
        "    if isinstance(top_level_comment, MoreComments):\n",
        "        continue\n",
        "    text.append(top_level_comment.body)\n",
        "print(len(text))\n",
        "df = pd.DataFrame()\n",
        "df['text'] = text"
      ],
      "metadata": {
        "colab": {
          "base_uri": "https://localhost:8080/"
        },
        "id": "DmqAveRMOttb",
        "outputId": "b55fe51b-167a-4d66-9d29-53d950efee92"
      },
      "execution_count": 25,
      "outputs": [
        {
          "output_type": "stream",
          "name": "stderr",
          "text": [
            "WARNING:praw:It appears that you are using PRAW in an asynchronous environment.\n",
            "It is strongly recommended to use Async PRAW: https://asyncpraw.readthedocs.io.\n",
            "See https://praw.readthedocs.io/en/latest/getting_started/multiple_instances.html#discord-bots-and-asynchronous-environments for more info.\n",
            "\n"
          ]
        },
        {
          "output_type": "stream",
          "name": "stdout",
          "text": [
            "471\n"
          ]
        }
      ]
    },
    {
      "cell_type": "code",
      "execution_count": 26,
      "metadata": {
        "colab": {
          "base_uri": "https://localhost:8080/",
          "height": 1000
        },
        "id": "LpZuCeh-OpA4",
        "outputId": "e7772e65-b5a4-46d0-8360-afa2f1090f05"
      },
      "outputs": [
        {
          "output_type": "stream",
          "name": "stderr",
          "text": [
            "/usr/local/lib/python3.7/dist-packages/gensim/models/phrases.py:598: UserWarning: For a faster implementation, use the gensim.models.phrases.Phraser class\n",
            "  warnings.warn(\"For a faster implementation, use the gensim.models.phrases.Phraser class\")\n"
          ]
        },
        {
          "output_type": "stream",
          "name": "stdout",
          "text": [
            "[(0,\n",
            "  '0.092*\"dead\" + 0.079*\"spy\" + 0.036*\"dump\" + 0.032*\"shit\" + 0.024*\"already\" '\n",
            "  '+ 0.023*\"rip\" + 0.019*\"time\" + 0.019*\"talk\" + 0.014*\"happen\" + '\n",
            "  '0.014*\"play\"'),\n",
            " (1,\n",
            "  '0.072*\"img_emote_th\" + 0.069*\"buy\" + 0.049*\"market\" + 0.047*\"call\" + '\n",
            "  '0.031*\"pump\" + 0.031*\"stop\" + 0.015*\"die\" + 0.013*\"cpi\" + 0.013*\"recession\" '\n",
            "  '+ 0.010*\"long\"'),\n",
            " (2,\n",
            "  '0.088*\"ber\" + 0.075*\"inside\" + 0.075*\"outside\" + 0.043*\"today\" + '\n",
            "  '0.026*\"back\" + 0.019*\"week\" + 0.018*\"money\" + 0.012*\"hold\" + 0.012*\"lose\" + '\n",
            "  '0.011*\"next\"'),\n",
            " (3,\n",
            "  '0.034*\"close\" + 0.030*\"lol\" + 0.027*\"bear\" + 0.023*\"weekend\" + 0.018*\"love\" '\n",
            "  '+ 0.015*\"fuk\" + 0.014*\"girl\" + 0.014*\"bullish\" + 0.013*\"meme\" + '\n",
            "  '0.013*\"work\"'),\n",
            " (4,\n",
            "  '0.068*\"put\" + 0.036*\"bull\" + 0.032*\"fuck\" + 0.022*\"sell\" + 0.022*\"open\" + '\n",
            "  '0.021*\"day\" + 0.019*\"rally\" + 0.017*\"let\" + 0.015*\"ass\" + 0.015*\"double\"')]\n"
          ]
        },
        {
          "output_type": "stream",
          "name": "stderr",
          "text": [
            "/usr/local/lib/python3.7/dist-packages/pyLDAvis/_prepare.py:247: FutureWarning: In a future version of pandas all arguments of DataFrame.drop except for the argument 'labels' will be keyword-only\n",
            "  by='saliency', ascending=False).head(R).drop('saliency', 1)\n"
          ]
        },
        {
          "output_type": "execute_result",
          "data": {
            "text/plain": [
              "PreparedData(topic_coordinates=              x         y  topics  cluster       Freq\n",
              "topic                                                \n",
              "4     -0.124963 -0.158938       1        1  24.012501\n",
              "1     -0.096808  0.126477       2        1  22.245255\n",
              "2      0.195628 -0.108463       3        1  20.677623\n",
              "3     -0.075086  0.003771       4        1  16.591186\n",
              "0      0.101230  0.137153       5        1  16.473436, topic_info=              Term       Freq      Total Category  logprob  loglift\n",
              "329            ber  48.000000  48.000000  Default  30.0000  30.0000\n",
              "225           dead  40.000000  40.000000  Default  29.0000  29.0000\n",
              "47    img_emote_th  42.000000  42.000000  Default  28.0000  28.0000\n",
              "40             spy  34.000000  34.000000  Default  27.0000  27.0000\n",
              "10             put  43.000000  43.000000  Default  26.0000  26.0000\n",
              "...            ...        ...        ...      ...      ...      ...\n",
              "807        balance   1.922477   2.734020   Topic5  -5.4143   1.4513\n",
              "1002         alive   2.429169   4.119158   Topic5  -5.1803   1.2753\n",
              "985         record   3.663164   9.643550   Topic5  -4.7696   0.8355\n",
              "1010        inside   3.114926  44.558870   Topic5  -4.9317  -0.8572\n",
              "1011       outside   3.114926  44.558870   Topic5  -4.9317  -0.8572\n",
              "\n",
              "[199 rows x 6 columns], token_table=      Topic      Freq       Term\n",
              "term                            \n",
              "65        5  0.955439    account\n",
              "551       5  0.610784     actual\n",
              "965       4  0.642633     adjust\n",
              "1002      3  0.242768      alive\n",
              "1002      5  0.485536      alive\n",
              "...     ...       ...        ...\n",
              "16        4  0.971124       work\n",
              "681       2  0.845297      worth\n",
              "7         4  0.741962      wrong\n",
              "95        4  0.758862       year\n",
              "118       2  0.953498  yesterday\n",
              "\n",
              "[189 rows x 3 columns], R=30, lambda_step=0.01, plot_opts={'xlab': 'PC1', 'ylab': 'PC2'}, topic_order=[5, 2, 3, 4, 1])"
            ],
            "text/html": [
              "\n",
              "<link rel=\"stylesheet\" type=\"text/css\" href=\"https://cdn.jsdelivr.net/gh/bmabey/pyLDAvis@3.3.1/pyLDAvis/js/ldavis.v1.0.0.css\">\n",
              "\n",
              "\n",
              "<div id=\"ldavis_el591404792054085929935936654\"></div>\n",
              "<script type=\"text/javascript\">\n",
              "\n",
              "var ldavis_el591404792054085929935936654_data = {\"mdsDat\": {\"x\": [-0.12496337040886442, -0.09680812028848136, 0.19562750645244845, -0.07508574129112937, 0.10122972553602679], \"y\": [-0.1589383755158584, 0.12647684387507363, -0.10846291683946138, 0.0037710977107066135, 0.13715335076953966], \"topics\": [1, 2, 3, 4, 5], \"cluster\": [1, 1, 1, 1, 1], \"Freq\": [24.01250086497236, 22.245255157819347, 20.677622617584984, 16.59118576115658, 16.473435598466725]}, \"tinfo\": {\"Term\": [\"ber\", \"dead\", \"img_emote_th\", \"spy\", \"put\", \"buy\", \"outside\", \"inside\", \"market\", \"call\", \"today\", \"bull\", \"dump\", \"fuck\", \"close\", \"pump\", \"stop\", \"shit\", \"lol\", \"bear\", \"back\", \"sell\", \"already\", \"weekend\", \"open\", \"day\", \"rip\", \"rally\", \"week\", \"time\", \"put\", \"bull\", \"fuck\", \"sell\", \"open\", \"day\", \"rally\", \"let\", \"ass\", \"double\", \"cash\", \"feel\", \"top\", \"profit\", \"ill\", \"start\", \"king\", \"little\", \"later\", \"break\", \"rug_pull\", \"red\", \"instead\", \"short\", \"rape\", \"touch\", \"thing\", \"happy\", \"first\", \"dumb\", \"live\", \"img_emote_th\", \"buy\", \"market\", \"call\", \"pump\", \"stop\", \"die\", \"recession\", \"long\", \"cancel\", \"cpi\", \"look\", \"team\", \"clown\", \"greedy\", \"pretty\", \"point\", \"yesterday\", \"regard\", \"europoor\", \"crash\", \"dwac\", \"jump\", \"worth\", \"bag\", \"bullard\", \"wife\", \"spite\", \"speak\", \"pain\", \"energy\", \"pust\", \"ber\", \"today\", \"back\", \"week\", \"money\", \"inside\", \"outside\", \"lose\", \"hold\", \"next\", \"tsla\", \"minute\", \"gme\", \"probably\", \"last\", \"early\", \"position\", \"head\", \"ask\", \"big\", \"peepin\", \"game\", \"much\", \"bbby\", \"sure\", \"boy\", \"harbor\", \"kid\", \"tea\", \"suck\", \"shitty\", \"breaking\", \"record\", \"close\", \"lol\", \"bear\", \"weekend\", \"love\", \"fuk\", \"girl\", \"bullish\", \"work\", \"meme\", \"green\", \"fucking\", \"late\", \"monthly\", \"hang\", \"find\", \"year\", \"wrong\", \"whale\", \"obliterate\", \"keep\", \"queen\", \"set\", \"adjust\", \"decline\", \"slate\", \"order\", \"loss\", \"stock\", \"black\", \"fit\", \"fat\", \"kiss\", \"alright\", \"app\", \"dweebs\", \"loaded\", \"camping\", \"spy\", \"dead\", \"dump\", \"shit\", \"already\", \"rip\", \"time\", \"talk\", \"happen\", \"play\", \"still\", \"literally\", \"people\", \"account\", \"inflation\", \"wait\", \"price\", \"never\", \"watch\", \"delete\", \"bitcorn\", \"safe\", \"bet\", \"basically\", \"share\", \"drop\", \"hate\", \"rise\", \"actual\", \"fake\", \"balance\", \"alive\", \"record\", \"inside\", \"outside\"], \"Freq\": [48.0, 40.0, 42.0, 34.0, 43.0, 40.0, 44.0, 44.0, 29.0, 27.0, 24.0, 23.0, 16.0, 20.0, 15.0, 18.0, 18.0, 14.0, 13.0, 12.0, 14.0, 14.0, 10.0, 10.0, 14.0, 14.0, 10.0, 12.0, 10.0, 8.0, 42.944701453670994, 22.87549108564903, 19.873538988844167, 13.929537570343816, 13.604566275585706, 13.459118084557108, 11.758122638563984, 10.758308172162831, 9.651332460369437, 9.498545742712437, 8.855190828977092, 8.84614427786026, 8.66440379024614, 8.079699647396666, 8.067517224278081, 6.884651651609365, 6.5007810607824394, 7.528869955897717, 6.015165197889665, 5.965174709027327, 6.112030232518767, 6.357675688518516, 5.929922232428929, 5.167211341152469, 4.716073951310745, 4.914033930905519, 4.438656836634543, 3.967200754654357, 3.9734367438555998, 3.6540757292591284, 4.740104402225112, 42.02592813379615, 40.047140807267624, 28.761308478446864, 27.127008435117514, 17.87887088422971, 17.812063783079406, 8.58543143761748, 7.485211900406006, 6.121290781874839, 5.434455115692945, 7.7402058392095565, 5.046276492250942, 5.433170906753641, 5.259974289810088, 4.301157288436825, 4.143658700385793, 3.9944781481219622, 3.610046808354436, 3.0942938371707633, 2.9955129199642054, 2.99121367079848, 3.017633079565035, 3.086019241855082, 2.9248879443732068, 4.957698112786703, 2.679719697221541, 2.7580922809080963, 2.6485831962538295, 2.3587426687118294, 2.32849615440438, 2.756230313697579, 2.7952070052657736, 47.598366643404056, 23.416840723223814, 13.83601268762964, 10.085633690766974, 9.554910644073258, 40.87189804009664, 40.87189804009664, 6.431400604967117, 6.484643107977629, 6.164923101394102, 4.750697033610794, 4.07704346927233, 4.0612824568155235, 4.11860527830105, 3.7662139537351806, 3.827403588659239, 3.709161420540521, 4.130504272349696, 3.3868043996234065, 3.3030475851870813, 3.455186327732736, 3.3580690444649344, 3.2875838646132265, 3.113915940445442, 3.157999683078865, 2.6274358818674424, 2.6459333424455127, 2.6459333424455127, 2.6459333424455127, 2.345747532480095, 3.3159532832434473, 4.922261201296161, 5.104502135025812, 14.679558815320854, 13.141463318748233, 11.855493698182638, 10.132848190305442, 7.876273244205586, 6.577812509069412, 6.085234601282476, 5.929171604823877, 5.553136934003071, 5.745977500907761, 4.161195132222125, 4.221410298960035, 4.740886849795595, 4.40130778216466, 4.071716584310972, 3.3860668601812294, 3.3360912646667806, 3.4041241608769592, 3.6664387818298927, 3.2403525798210002, 2.972024258506282, 3.0906572452108994, 2.5295592379317298, 2.4882324119018318, 2.4882324119018318, 2.4882324119018318, 2.4352681907681637, 2.1895292136469564, 2.0361535300545865, 2.1389487651800985, 2.5867963087971653, 3.572452692331652, 3.007931099894671, 2.8602463394273463, 2.8602463394273463, 2.8602463394273463, 2.8602463394273463, 2.5704881610317702, 34.12781823466927, 39.796450450946686, 15.495341528301596, 13.729425066048382, 10.340875716739815, 9.968396486773191, 7.9990937819448895, 7.991258149918123, 6.047599185498882, 5.839486471670453, 4.929925855633512, 5.067916780275265, 4.826214916347903, 4.570933997821757, 5.495709476272572, 3.872179066345221, 3.7417052978724286, 3.8146772851400716, 3.7602183155713047, 3.788998158524589, 3.2936730992071954, 3.038116530175336, 2.6512936220700087, 2.5052235841743413, 2.5674246938040417, 2.4702230069783147, 2.4629364643250757, 2.0112166610461992, 2.408842616068035, 1.6857601703207745, 1.9224769018893246, 2.4291687747300994, 3.663164004253009, 3.1149255081439646, 3.1149255081439646], \"Total\": [48.0, 40.0, 42.0, 34.0, 43.0, 40.0, 44.0, 44.0, 29.0, 27.0, 24.0, 23.0, 16.0, 20.0, 15.0, 18.0, 18.0, 14.0, 13.0, 12.0, 14.0, 14.0, 10.0, 10.0, 14.0, 14.0, 10.0, 12.0, 10.0, 8.0, 43.55639401643774, 23.488669641089132, 20.48052905335765, 14.533386324598768, 14.21399042401993, 14.066287494487502, 12.365766765753921, 11.384041132489235, 10.270072517886643, 10.111139385330766, 9.467254450156103, 9.464971213377165, 9.293538302015438, 8.689230723772965, 8.68632260709728, 7.501006141636571, 7.105895741476569, 8.261850814236706, 6.622184285641248, 6.576213076374207, 6.748147099402259, 7.03046981935624, 6.585570717765416, 5.77965554975481, 5.332259201519159, 5.610079894995301, 5.077752673227846, 4.579542040019487, 4.589422970426633, 4.257124922947149, 5.547225114562504, 42.61383243723443, 40.63699411873214, 29.346391557907413, 27.713831890065208, 18.463581094834627, 18.433958199040646, 9.173629616457806, 8.068928805748676, 6.719717833310921, 6.018280385748492, 8.627758185272164, 5.629482958327283, 6.095345143316712, 5.920397937449168, 4.896146769454184, 4.730298323488906, 4.596270593351814, 4.195079975359375, 3.692768253728199, 3.578949003950469, 3.5761300697426837, 3.6140325029173477, 3.7036796147015787, 3.5490463719277683, 6.0371903198220975, 3.2632708060538014, 3.3699828198295974, 3.2385373022088535, 2.9431382047394217, 2.9252163801792617, 3.7817246632034998, 4.902780003710872, 48.2490015648205, 24.054125169040052, 14.46913926324082, 10.712819648214637, 10.18167347622702, 44.55887032989996, 44.55887032989996, 7.0589553024603235, 7.131033699447754, 6.794672115045449, 5.4876833209433045, 4.710565806797522, 4.725692392431422, 4.806857629813318, 4.3974395649428, 4.473253138531254, 4.353795653317941, 4.861599531077414, 4.029362802451972, 3.9330381566352353, 4.115069341162043, 4.02055767966366, 3.9367919822585495, 3.746226251672875, 3.8434732043606044, 3.257003917932436, 3.2864607376680484, 3.2864607376680484, 3.2864607376680484, 2.9756972983014442, 4.216616051512182, 6.802700240242013, 9.643550066161389, 15.338772149079642, 13.809669819271495, 12.475025595758927, 10.768186326216322, 8.521222900714381, 7.206895378930338, 6.70412839695888, 6.547617528914677, 6.178407901033671, 6.397038841443766, 4.783698042902791, 4.861312876820266, 5.469901221727186, 5.093840046249333, 4.723679491850017, 4.002014058194757, 3.953289862656457, 4.043336061951208, 4.3572517609111845, 3.892594499354644, 3.588386252303109, 3.7361552209642475, 3.1455028750874945, 3.1121952104727986, 3.1121952104727986, 3.1121952104727986, 3.055263409629547, 2.8563474661887076, 2.6581293497117393, 2.8015280871387382, 3.4070317534998678, 4.926730188862434, 4.910164168820377, 4.96351356194546, 4.96351356194546, 4.96351356194546, 4.96351356194546, 6.349805388548637, 34.788846298950034, 40.64752371136023, 16.15373517121446, 14.411956138811803, 10.99806807621534, 10.631648864065644, 8.660385198431392, 8.652279157543292, 6.709852296835513, 6.537753766653911, 5.58486239997345, 5.764638956492393, 5.504082908202746, 5.233198291177263, 6.308965849558016, 4.5519597729615064, 4.4027365562361975, 4.501301929069998, 4.447825857486366, 4.487517521037016, 4.040307166557002, 3.739383244277705, 3.316098666518963, 3.163997414700947, 3.24734858795554, 3.1289664266352393, 3.152014927912556, 2.666952844529722, 3.2744808218833246, 2.3379050023689047, 2.734020155687851, 4.119158327654338, 9.643550066161389, 44.55887032989996, 44.55887032989996], \"Category\": [\"Default\", \"Default\", \"Default\", \"Default\", \"Default\", \"Default\", \"Default\", \"Default\", \"Default\", \"Default\", \"Default\", \"Default\", \"Default\", \"Default\", \"Default\", \"Default\", \"Default\", \"Default\", \"Default\", \"Default\", \"Default\", \"Default\", \"Default\", \"Default\", \"Default\", \"Default\", \"Default\", \"Default\", \"Default\", \"Default\", \"Topic1\", \"Topic1\", \"Topic1\", \"Topic1\", \"Topic1\", \"Topic1\", \"Topic1\", \"Topic1\", \"Topic1\", \"Topic1\", \"Topic1\", \"Topic1\", \"Topic1\", \"Topic1\", \"Topic1\", \"Topic1\", \"Topic1\", \"Topic1\", \"Topic1\", \"Topic1\", \"Topic1\", \"Topic1\", \"Topic1\", \"Topic1\", \"Topic1\", \"Topic1\", \"Topic1\", \"Topic1\", \"Topic1\", \"Topic1\", \"Topic1\", \"Topic2\", \"Topic2\", \"Topic2\", \"Topic2\", \"Topic2\", \"Topic2\", \"Topic2\", \"Topic2\", \"Topic2\", \"Topic2\", \"Topic2\", \"Topic2\", \"Topic2\", \"Topic2\", \"Topic2\", \"Topic2\", \"Topic2\", \"Topic2\", \"Topic2\", \"Topic2\", \"Topic2\", \"Topic2\", \"Topic2\", \"Topic2\", \"Topic2\", \"Topic2\", \"Topic2\", \"Topic2\", \"Topic2\", \"Topic2\", \"Topic2\", \"Topic2\", \"Topic3\", \"Topic3\", \"Topic3\", \"Topic3\", \"Topic3\", \"Topic3\", \"Topic3\", \"Topic3\", \"Topic3\", \"Topic3\", \"Topic3\", \"Topic3\", \"Topic3\", \"Topic3\", \"Topic3\", \"Topic3\", \"Topic3\", \"Topic3\", \"Topic3\", \"Topic3\", \"Topic3\", \"Topic3\", \"Topic3\", \"Topic3\", \"Topic3\", \"Topic3\", \"Topic3\", \"Topic3\", \"Topic3\", \"Topic3\", \"Topic3\", \"Topic3\", \"Topic3\", \"Topic4\", \"Topic4\", \"Topic4\", \"Topic4\", \"Topic4\", \"Topic4\", \"Topic4\", \"Topic4\", \"Topic4\", \"Topic4\", \"Topic4\", \"Topic4\", \"Topic4\", \"Topic4\", \"Topic4\", \"Topic4\", \"Topic4\", \"Topic4\", \"Topic4\", \"Topic4\", \"Topic4\", \"Topic4\", \"Topic4\", \"Topic4\", \"Topic4\", \"Topic4\", \"Topic4\", \"Topic4\", \"Topic4\", \"Topic4\", \"Topic4\", \"Topic4\", \"Topic4\", \"Topic4\", \"Topic4\", \"Topic4\", \"Topic4\", \"Topic4\", \"Topic5\", \"Topic5\", \"Topic5\", \"Topic5\", \"Topic5\", \"Topic5\", \"Topic5\", \"Topic5\", \"Topic5\", \"Topic5\", \"Topic5\", \"Topic5\", \"Topic5\", \"Topic5\", \"Topic5\", \"Topic5\", \"Topic5\", \"Topic5\", \"Topic5\", \"Topic5\", \"Topic5\", \"Topic5\", \"Topic5\", \"Topic5\", \"Topic5\", \"Topic5\", \"Topic5\", \"Topic5\", \"Topic5\", \"Topic5\", \"Topic5\", \"Topic5\", \"Topic5\", \"Topic5\", \"Topic5\"], \"logprob\": [30.0, 29.0, 28.0, 27.0, 26.0, 25.0, 24.0, 23.0, 22.0, 21.0, 20.0, 19.0, 18.0, 17.0, 16.0, 15.0, 14.0, 13.0, 12.0, 11.0, 10.0, 9.0, 8.0, 7.0, 6.0, 5.0, 4.0, 3.0, 2.0, 1.0, -2.6848, -3.3146, -3.4553, -3.8107, -3.8343, -3.8451, -3.9802, -4.069, -4.1776, -4.1936, -4.2637, -4.2647, -4.2855, -4.3554, -4.3569, -4.5154, -4.5728, -4.426, -4.6504, -4.6588, -4.6345, -4.5951, -4.6647, -4.8024, -4.8937, -4.8526, -4.9544, -5.0667, -5.0651, -5.1489, -4.8887, -2.63, -2.6782, -3.0092, -3.0677, -3.4847, -3.4884, -4.2182, -4.3553, -4.5565, -4.6755, -4.3218, -4.7496, -4.6757, -4.7081, -4.9094, -4.9467, -4.9834, -5.0845, -5.2387, -5.2712, -5.2726, -5.2638, -5.2414, -5.295, -4.7673, -5.3826, -5.3537, -5.3942, -5.5101, -5.523, -5.3544, -5.3404, -2.4324, -3.1417, -3.6679, -3.9841, -4.0381, -2.5848, -2.5848, -4.434, -4.4258, -4.4763, -4.7369, -4.8898, -4.8937, -4.8797, -4.9691, -4.953, -4.9844, -4.8768, -5.0753, -5.1003, -5.0553, -5.0838, -5.105, -5.1593, -5.1453, -5.3292, -5.3222, -5.3222, -5.3222, -5.4426, -5.0964, -4.7014, -4.6651, -3.3886, -3.4992, -3.6022, -3.7592, -4.0112, -4.1913, -4.2691, -4.2951, -4.3606, -4.3265, -4.6492, -4.6348, -4.5188, -4.5931, -4.6709, -4.8553, -4.8702, -4.85, -4.7758, -4.8993, -4.9858, -4.9466, -5.147, -5.1634, -5.1634, -5.1634, -5.185, -5.2913, -5.364, -5.3147, -5.1246, -4.8018, -4.9738, -5.0241, -5.0241, -5.0241, -5.0241, -5.1309, -2.5378, -2.3841, -3.3274, -3.4483, -3.7318, -3.7685, -3.9886, -3.9895, -4.2682, -4.3032, -4.4726, -4.445, -4.4938, -4.5482, -4.3639, -4.7141, -4.7483, -4.729, -4.7434, -4.7358, -4.8759, -4.9567, -5.0928, -5.1495, -5.125, -5.1636, -5.1665, -5.3692, -5.1887, -5.5457, -5.4143, -5.1803, -4.7696, -4.9317, -4.9317], \"loglift\": [30.0, 29.0, 28.0, 27.0, 26.0, 25.0, 24.0, 23.0, 22.0, 21.0, 20.0, 19.0, 18.0, 17.0, 16.0, 15.0, 14.0, 13.0, 12.0, 11.0, 10.0, 9.0, 8.0, 7.0, 6.0, 5.0, 4.0, 3.0, 2.0, 1.0, 1.4125, 1.4001, 1.3965, 1.3842, 1.3828, 1.3825, 1.3762, 1.3701, 1.3645, 1.3641, 1.3598, 1.359, 1.3565, 1.3539, 1.3527, 1.3409, 1.3376, 1.3337, 1.3305, 1.3291, 1.3276, 1.326, 1.3217, 1.3146, 1.3038, 1.2941, 1.2921, 1.2831, 1.2825, 1.2738, 1.2694, 1.4891, 1.4884, 1.4829, 1.4816, 1.4709, 1.4687, 1.4368, 1.428, 1.4098, 1.401, 1.3945, 1.3937, 1.388, 1.3848, 1.3735, 1.3706, 1.3627, 1.3528, 1.3262, 1.3251, 1.3244, 1.3227, 1.3206, 1.3096, 1.306, 1.306, 1.3027, 1.3019, 1.2817, 1.2749, 1.1867, 0.9411, 1.5625, 1.5493, 1.5314, 1.5158, 1.5126, 1.4897, 1.4897, 1.483, 1.4811, 1.4789, 1.4319, 1.4317, 1.4246, 1.4216, 1.4212, 1.4202, 1.4159, 1.4132, 1.4024, 1.4016, 1.4013, 1.3961, 1.3959, 1.3913, 1.3797, 1.3613, 1.3593, 1.3593, 1.3593, 1.3382, 1.3358, 1.2526, 0.94, 1.7524, 1.7467, 1.7454, 1.7355, 1.7176, 1.705, 1.6994, 1.6971, 1.6896, 1.689, 1.6569, 1.6552, 1.6533, 1.6502, 1.6478, 1.6292, 1.6266, 1.6242, 1.6237, 1.6129, 1.6078, 1.6066, 1.5784, 1.5725, 1.5725, 1.5725, 1.5695, 1.5304, 1.5297, 1.5264, 1.5209, 1.4749, 1.3062, 1.2451, 1.2451, 1.2451, 1.2451, 0.892, 1.7842, 1.7823, 1.7618, 1.7549, 1.7418, 1.739, 1.724, 1.7239, 1.6995, 1.6905, 1.6787, 1.6746, 1.672, 1.6681, 1.6654, 1.6417, 1.6407, 1.6379, 1.6355, 1.6342, 1.5991, 1.5957, 1.5797, 1.57, 1.5685, 1.567, 1.5567, 1.5212, 1.4964, 1.4764, 1.4513, 1.2753, 0.8355, -0.8572, -0.8572]}, \"token.table\": {\"Topic\": [5, 5, 4, 3, 5, 5, 2, 4, 5, 2, 4, 5, 3, 1, 3, 1, 2, 5, 5, 3, 4, 3, 5, 3, 5, 4, 3, 1, 3, 5, 1, 2, 4, 2, 2, 1, 2, 3, 4, 2, 1, 4, 2, 2, 2, 1, 5, 4, 5, 2, 1, 5, 1, 5, 2, 2, 4, 5, 3, 2, 2, 5, 1, 3, 4, 1, 4, 1, 4, 1, 4, 4, 3, 4, 3, 2, 4, 4, 5, 1, 3, 5, 3, 3, 1, 2, 5, 3, 5, 1, 2, 4, 3, 1, 1, 3, 4, 3, 4, 1, 1, 5, 1, 1, 2, 4, 5, 4, 2, 2, 3, 4, 4, 2, 4, 3, 3, 4, 3, 5, 3, 4, 1, 4, 3, 5, 2, 3, 5, 5, 2, 3, 2, 5, 3, 1, 2, 2, 5, 1, 4, 1, 1, 2, 1, 3, 5, 1, 2, 5, 5, 1, 5, 1, 4, 5, 5, 3, 1, 4, 2, 2, 5, 1, 5, 4, 2, 3, 3, 5, 3, 2, 1, 5, 3, 1, 1, 3, 5, 5, 3, 4, 4, 2, 4, 2, 4, 4, 2], \"Freq\": [0.9554386671014519, 0.6107838490407452, 0.6426332105614172, 0.24276804154052795, 0.4855360830810559, 0.9092506002600781, 0.2014701858914732, 0.6044105576744195, 0.2014701858914732, 0.2014701858914732, 0.6044105576744195, 0.2014701858914732, 0.7445345944461546, 0.9737029590184221, 0.9675765603809842, 0.1656399661141489, 0.8281998305707445, 0.7315235024289061, 0.9481676521166034, 0.8008058772906073, 0.9619218740584854, 0.9948392390154234, 0.9046775448178133, 0.76276910635582, 0.742517802812623, 0.7138961087635012, 0.9210919223899542, 0.9123791960992995, 0.7350022525499551, 0.14700045050999103, 0.9791955164529925, 0.9193230284273683, 0.9163638489120104, 0.9843247727213537, 0.9742427574470097, 0.31497028296439433, 0.15748514148219717, 0.15748514148219717, 0.4724554244465915, 0.8308021028465512, 0.9506451999768107, 0.9779139982139986, 0.8445378254682444, 0.9272397102709988, 0.8388956613694595, 0.924195528144482, 0.9840697869823923, 0.6426332105614172, 0.891361422267081, 0.9810729641682603, 0.890107401056818, 0.6391887055658558, 0.9396012737232186, 0.9285778082291217, 0.8300976810746213, 0.2014701858914732, 0.6044105576744195, 0.2014701858914732, 0.894203810096327, 0.7932888475965089, 0.8382349110558935, 0.8554667524871544, 0.2029743788812792, 0.2029743788812792, 0.8118975155251168, 0.9508745242964918, 0.7496225541379659, 0.8715692638868192, 0.8805318579488597, 0.9765372734217103, 0.8228229906930735, 0.9712920240891514, 0.7461651439983732, 0.8949709260821607, 0.8464368113350592, 0.8169689734292657, 0.836173179018792, 0.8467975032813689, 0.8942074630807757, 0.8734497827610245, 0.9128360992161707, 0.6345147614273877, 0.8227744746210166, 0.8413927423263552, 0.920988128332177, 0.9855954650842884, 0.7925229140922173, 0.9201310467803336, 0.06732666195953661, 0.9110827682427335, 0.81000526829903, 0.8360304017089941, 0.9128360992161707, 0.9850974816787046, 0.20365917831220723, 0.20365917831220723, 0.6109775349366217, 0.9096202326209866, 0.9140932893155959, 0.9060454588993667, 0.9662649556497815, 0.8673570084330741, 0.9683060345527557, 0.9013515580743361, 0.2014701858914732, 0.6044105576744195, 0.2014701858914732, 0.9413693571339704, 0.892894634690888, 0.8881810349214869, 0.8499841326249458, 0.7001949250483337, 0.9388323827709419, 0.9881964514368351, 0.9379339642474083, 0.8491548922271399, 0.9821568157090084, 0.785262191918503, 0.7620417877093142, 0.8886317920971877, 0.8830448178233935, 0.7706941990740037, 0.9849450845514633, 0.6546080425329028, 0.9201310467803336, 0.06732666195953661, 0.6837101055332655, 0.7290278124822165, 0.9084165488402236, 0.9177464025340405, 0.8702707812254835, 0.9187385716993125, 0.8456126287294575, 0.9085258563413824, 0.8321444710970869, 0.9206798915020992, 0.9748921353634741, 0.6118977391866095, 0.40793182612440637, 0.9872258934881578, 0.8029644976114626, 0.9704210201694176, 0.9376888502673504, 0.8675253145142238, 0.10369625222447251, 0.5184812611223626, 0.41478500889789005, 0.8534280288752314, 0.8123986651399573, 0.9405878737962668, 0.7499195211127442, 0.8891329592580267, 0.8022713383526102, 0.96329923992346, 0.9537425712626484, 0.9238306017182882, 0.9714156680159195, 0.7114709908017653, 0.8651034576294283, 0.6426332105614172, 0.6795467493777021, 0.926344123920957, 0.977324735285233, 0.9332081413911145, 0.8952772050433632, 0.7524088322552437, 0.9764587619026265, 0.6721113740774703, 0.7805440133149247, 0.9246118686572176, 0.9128360992161707, 0.8202980934528848, 0.7877500653172349, 0.9237464404526713, 0.9561769483765383, 0.9684147961221852, 0.8912529043410687, 0.911131293039068, 0.8787423877864367, 0.8993157844224933, 0.933461061455148, 0.9286614938723629, 0.9180098418649841, 0.8902122534119312, 0.9711239685220812, 0.845297492793948, 0.7419615767857493, 0.7588616327728918, 0.9534979126726508], \"Term\": [\"account\", \"actual\", \"adjust\", \"alive\", \"alive\", \"already\", \"alright\", \"alright\", \"alright\", \"app\", \"app\", \"app\", \"ask\", \"ass\", \"back\", \"bag\", \"bag\", \"balance\", \"basically\", \"bbby\", \"bear\", \"ber\", \"bet\", \"big\", \"bitcorn\", \"black\", \"boy\", \"break\", \"breaking\", \"breaking\", \"bull\", \"bullard\", \"bullish\", \"buy\", \"call\", \"camping\", \"camping\", \"camping\", \"camping\", \"cancel\", \"cash\", \"close\", \"clown\", \"cpi\", \"crash\", \"day\", \"dead\", \"decline\", \"delete\", \"die\", \"double\", \"drop\", \"dumb\", \"dump\", \"dwac\", \"dweebs\", \"dweebs\", \"dweebs\", \"early\", \"energy\", \"europoor\", \"fake\", \"fat\", \"fat\", \"fat\", \"feel\", \"find\", \"first\", \"fit\", \"fuck\", \"fucking\", \"fuk\", \"game\", \"girl\", \"gme\", \"greedy\", \"green\", \"hang\", \"happen\", \"happy\", \"harbor\", \"hate\", \"head\", \"hold\", \"ill\", \"img_emote_th\", \"inflation\", \"inside\", \"inside\", \"instead\", \"jump\", \"keep\", \"kid\", \"king\", \"kiss\", \"kiss\", \"kiss\", \"last\", \"late\", \"later\", \"let\", \"literally\", \"little\", \"live\", \"loaded\", \"loaded\", \"loaded\", \"lol\", \"long\", \"look\", \"lose\", \"loss\", \"love\", \"market\", \"meme\", \"minute\", \"money\", \"monthly\", \"much\", \"never\", \"next\", \"obliterate\", \"open\", \"order\", \"outside\", \"outside\", \"pain\", \"peepin\", \"people\", \"play\", \"point\", \"position\", \"pretty\", \"price\", \"probably\", \"profit\", \"pump\", \"pust\", \"pust\", \"put\", \"queen\", \"rally\", \"rape\", \"recession\", \"record\", \"record\", \"record\", \"red\", \"regard\", \"rip\", \"rise\", \"rug_pull\", \"safe\", \"sell\", \"set\", \"share\", \"shit\", \"shitty\", \"short\", \"slate\", \"speak\", \"spite\", \"spy\", \"start\", \"still\", \"stock\", \"stop\", \"suck\", \"sure\", \"talk\", \"tea\", \"team\", \"thing\", \"time\", \"today\", \"top\", \"touch\", \"tsla\", \"wait\", \"watch\", \"week\", \"weekend\", \"whale\", \"wife\", \"work\", \"worth\", \"wrong\", \"year\", \"yesterday\"]}, \"R\": 30, \"lambda.step\": 0.01, \"plot.opts\": {\"xlab\": \"PC1\", \"ylab\": \"PC2\"}, \"topic.order\": [5, 2, 3, 4, 1]};\n",
              "\n",
              "function LDAvis_load_lib(url, callback){\n",
              "  var s = document.createElement('script');\n",
              "  s.src = url;\n",
              "  s.async = true;\n",
              "  s.onreadystatechange = s.onload = callback;\n",
              "  s.onerror = function(){console.warn(\"failed to load library \" + url);};\n",
              "  document.getElementsByTagName(\"head\")[0].appendChild(s);\n",
              "}\n",
              "\n",
              "if(typeof(LDAvis) !== \"undefined\"){\n",
              "   // already loaded: just create the visualization\n",
              "   !function(LDAvis){\n",
              "       new LDAvis(\"#\" + \"ldavis_el591404792054085929935936654\", ldavis_el591404792054085929935936654_data);\n",
              "   }(LDAvis);\n",
              "}else if(typeof define === \"function\" && define.amd){\n",
              "   // require.js is available: use it to load d3/LDAvis\n",
              "   require.config({paths: {d3: \"https://d3js.org/d3.v5\"}});\n",
              "   require([\"d3\"], function(d3){\n",
              "      window.d3 = d3;\n",
              "      LDAvis_load_lib(\"https://cdn.jsdelivr.net/gh/bmabey/pyLDAvis@3.3.1/pyLDAvis/js/ldavis.v3.0.0.js\", function(){\n",
              "        new LDAvis(\"#\" + \"ldavis_el591404792054085929935936654\", ldavis_el591404792054085929935936654_data);\n",
              "      });\n",
              "    });\n",
              "}else{\n",
              "    // require.js not available: dynamically load d3 & LDAvis\n",
              "    LDAvis_load_lib(\"https://d3js.org/d3.v5.js\", function(){\n",
              "         LDAvis_load_lib(\"https://cdn.jsdelivr.net/gh/bmabey/pyLDAvis@3.3.1/pyLDAvis/js/ldavis.v3.0.0.js\", function(){\n",
              "                 new LDAvis(\"#\" + \"ldavis_el591404792054085929935936654\", ldavis_el591404792054085929935936654_data);\n",
              "            })\n",
              "         });\n",
              "}\n",
              "</script>"
            ]
          },
          "metadata": {},
          "execution_count": 26
        }
      ],
      "source": [
        "def sent_to_words(sentences):\n",
        "    for sent in sentences:\n",
        "        sent = re.sub('\\S*@\\S*\\s?', '', str(sent))  \n",
        "        sent = re.sub('\\s+', ' ', str(sent))  \n",
        "        sent = re.sub(\"\\'\", \"\", str(sent))  \n",
        "        sent = gensim.utils.simple_preprocess(str(sent), deacc=True) \n",
        "        yield(sent)  \n",
        "        \n",
        "def cleaner(df):\n",
        "  data = df.text.values.tolist()\n",
        "  data_words = list(sent_to_words(data))\n",
        "  return data_words, data\n",
        "\n",
        "def topicMaster(target,num_topics, savedAs):\n",
        "\n",
        "  data_words, data = cleaner(target)\n",
        "  bigram = gensim.models.Phrases(data_words, min_count=5, threshold=100) # higher threshold fewer phrases.\n",
        "  trigram = gensim.models.Phrases(bigram[data_words], threshold=100)  \n",
        "  bigram_mod = gensim.models.phrases.Phraser(bigram)\n",
        "  trigram_mod = gensim.models.phrases.Phraser(trigram)\n",
        "\n",
        "  def process_words(texts, stop_words=stop_words, allowed_postags=['NOUN', 'ADJ', 'VERB', 'ADV']):\n",
        "      \"\"\"Remove Stopwords, Form Bigrams, Trigrams and Lemmatization\"\"\"\n",
        "      texts = [[word for word in simple_preprocess(str(doc)) if word not in stop_words] for doc in texts]\n",
        "      texts = [bigram_mod[doc] for doc in texts]\n",
        "      texts = [trigram_mod[bigram_mod[doc]] for doc in texts]\n",
        "      texts_out = []\n",
        "      nlp = spacy.load('en_core_web_sm')\n",
        "      for sent in texts:\n",
        "          doc = nlp(\" \".join(sent)) \n",
        "          texts_out.append([token.lemma_ for token in doc if token.pos_ in allowed_postags])\n",
        "      texts_out = [[word for word in simple_preprocess(str(doc)) if word not in stop_words] for doc in texts_out]    \n",
        "      return texts_out\n",
        "  data_ready = process_words(data_words)\n",
        "  id2word = corpora.Dictionary(data_ready)\n",
        "\n",
        "  corpus = [id2word.doc2bow(text) for text in data_ready]\n",
        "  lda_model = gensim.models.ldamodel.LdaModel(corpus=corpus,\n",
        "                                            id2word=id2word,\n",
        "                                            num_topics=num_topics, \n",
        "                                            random_state=100,\n",
        "                                            update_every=1,\n",
        "                                            chunksize=10,\n",
        "                                            passes=10,\n",
        "                                            alpha='symmetric',\n",
        "                                            iterations=100,\n",
        "                                            per_word_topics=True)\n",
        "\n",
        "  pprint(lda_model.print_topics())\n",
        "\n",
        "  def format_topics_sentences(ldamodel=None, corpus=corpus, texts=data):\n",
        "      sent_topics_df = pd.DataFrame()\n",
        "      for i, row_list in enumerate(ldamodel[corpus]):\n",
        "          row = row_list[0] if ldamodel.per_word_topics else row_list            \n",
        "          row = sorted(row, key=lambda x: (x[1]), reverse=True)\n",
        "          for j, (topic_num, prop_topic) in enumerate(row):\n",
        "              if j == 0: \n",
        "                  wp = ldamodel.show_topic(topic_num)\n",
        "                  topic_keywords = \", \".join([word for word, prop in wp])\n",
        "                  sent_topics_df = sent_topics_df.append(pd.Series([int(topic_num), round(prop_topic,4), topic_keywords]), ignore_index=True)\n",
        "              else:\n",
        "                  break\n",
        "      sent_topics_df.columns = ['Dominant_Topic', 'Perc_Contribution', 'Topic_Keywords']\n",
        "      sent_topics_df=sent_topics_df[sent_topics_df['Dominant_Topic']>=.5]\n",
        "      contents = pd.Series(texts)\n",
        "      sent_topics_df = pd.concat([sent_topics_df, contents], axis=1)\n",
        "      return(sent_topics_df)\n",
        "\n",
        "  df_topic_sents_keywords = format_topics_sentences(ldamodel=lda_model, corpus=corpus, texts=data_ready)\n",
        "  df_dominant_topic = df_topic_sents_keywords.reset_index()\n",
        "  df_dominant_topic.columns = ['Document_No', 'Dominant_Topic', 'Topic_Perc_Contrib', 'Keywords', 'Text']\n",
        "\n",
        "  pd.options.display.max_colwidth = 100\n",
        "  sent_topics_sorteddf_mallet = pd.DataFrame()\n",
        "  sent_topics_outdf_grpd = df_topic_sents_keywords.groupby('Dominant_Topic')\n",
        "  for i, grp in sent_topics_outdf_grpd:\n",
        "      sent_topics_sorteddf_mallet = pd.concat([sent_topics_sorteddf_mallet, \n",
        "                                              grp.sort_values(['Perc_Contribution'], ascending=False).head(1)], \n",
        "                                              axis=0)\n",
        "  sent_topics_sorteddf_mallet.reset_index(drop=True, inplace=True)\n",
        "  sent_topics_sorteddf_mallet.columns = ['Topic_Num', \"Topic_Perc_Contrib\", \"Keywords\", \"Representative Text\"]\n",
        "\n",
        "  import pyLDAvis\n",
        "  import pyLDAvis.gensim_models\n",
        "  pyLDAvis.enable_notebook()\n",
        "  vis = pyLDAvis.gensim_models.prepare(lda_model, corpus, dictionary=lda_model.id2word)\n",
        "  p = pyLDAvis.gensim_models.prepare(lda_model, corpus, dictionary=lda_model.id2word)\n",
        "  pyLDAvis.save_html(p, savedAs)\n",
        "  return vis\n",
        "\n",
        "topicMaster(df,5, 'new_stock_topics.html')"
      ]
    },
    {
      "cell_type": "code",
      "source": [],
      "metadata": {
        "id": "E8xO8sd8VY1X"
      },
      "execution_count": null,
      "outputs": []
    },
    {
      "cell_type": "code",
      "source": [],
      "metadata": {
        "id": "SIU8kkAMVY5x"
      },
      "execution_count": null,
      "outputs": []
    },
    {
      "cell_type": "code",
      "source": [],
      "metadata": {
        "id": "STf2Rp68VY9a"
      },
      "execution_count": null,
      "outputs": []
    },
    {
      "cell_type": "code",
      "source": [],
      "metadata": {
        "id": "3GRv6DjGVZAi"
      },
      "execution_count": null,
      "outputs": []
    },
    {
      "cell_type": "code",
      "source": [],
      "metadata": {
        "id": "6h8UTx-GVZD7"
      },
      "execution_count": null,
      "outputs": []
    },
    {
      "cell_type": "code",
      "source": [
        "for posts in submission:\n",
        "    posts.append([post.title, post.score, post.id, post.subreddit, post.url, post.num_comments, post.selftext, post.created])\n",
        "posts = pd.DataFrame(posts,columns=['title', 'score', 'id', 'subreddit', 'url', 'num_comments', 'body', 'created'])\n",
        "print(posts)\n",
        "\n"
      ],
      "metadata": {
        "colab": {
          "base_uri": "https://localhost:8080/",
          "height": 314
        },
        "id": "tqMmucMPQQF7",
        "outputId": "3f43d1eb-fe6d-4787-b6dc-37f3462cc7ea"
      },
      "execution_count": 8,
      "outputs": [
        {
          "output_type": "error",
          "ename": "TypeError",
          "evalue": "ignored",
          "traceback": [
            "\u001b[0;31m---------------------------------------------------------------------------\u001b[0m",
            "\u001b[0;31mTypeError\u001b[0m                                 Traceback (most recent call last)",
            "\u001b[0;32m<ipython-input-8-31cf1e56b98e>\u001b[0m in \u001b[0;36m<module>\u001b[0;34m\u001b[0m\n\u001b[1;32m      1\u001b[0m \u001b[0msubmission\u001b[0m \u001b[0;34m=\u001b[0m \u001b[0mreddit\u001b[0m\u001b[0;34m.\u001b[0m\u001b[0msubmission\u001b[0m\u001b[0;34m(\u001b[0m\u001b[0murl\u001b[0m\u001b[0;34m=\u001b[0m\u001b[0;34m\"https://www.reddit.com/r/wallstreetbets/comments/x9rf74/daily_discussion_thread_for_september_09_2022/\"\u001b[0m\u001b[0;34m)\u001b[0m\u001b[0;34m\u001b[0m\u001b[0;34m\u001b[0m\u001b[0m\n\u001b[0;32m----> 2\u001b[0;31m \u001b[0;32mfor\u001b[0m \u001b[0mposts\u001b[0m \u001b[0;32min\u001b[0m \u001b[0msubmission\u001b[0m\u001b[0;34m:\u001b[0m\u001b[0;34m\u001b[0m\u001b[0;34m\u001b[0m\u001b[0m\n\u001b[0m\u001b[1;32m      3\u001b[0m     \u001b[0mposts\u001b[0m\u001b[0;34m.\u001b[0m\u001b[0mappend\u001b[0m\u001b[0;34m(\u001b[0m\u001b[0;34m[\u001b[0m\u001b[0mpost\u001b[0m\u001b[0;34m.\u001b[0m\u001b[0mtitle\u001b[0m\u001b[0;34m,\u001b[0m \u001b[0mpost\u001b[0m\u001b[0;34m.\u001b[0m\u001b[0mscore\u001b[0m\u001b[0;34m,\u001b[0m \u001b[0mpost\u001b[0m\u001b[0;34m.\u001b[0m\u001b[0mid\u001b[0m\u001b[0;34m,\u001b[0m \u001b[0mpost\u001b[0m\u001b[0;34m.\u001b[0m\u001b[0msubreddit\u001b[0m\u001b[0;34m,\u001b[0m \u001b[0mpost\u001b[0m\u001b[0;34m.\u001b[0m\u001b[0murl\u001b[0m\u001b[0;34m,\u001b[0m \u001b[0mpost\u001b[0m\u001b[0;34m.\u001b[0m\u001b[0mnum_comments\u001b[0m\u001b[0;34m,\u001b[0m \u001b[0mpost\u001b[0m\u001b[0;34m.\u001b[0m\u001b[0mselftext\u001b[0m\u001b[0;34m,\u001b[0m \u001b[0mpost\u001b[0m\u001b[0;34m.\u001b[0m\u001b[0mcreated\u001b[0m\u001b[0;34m]\u001b[0m\u001b[0;34m)\u001b[0m\u001b[0;34m\u001b[0m\u001b[0;34m\u001b[0m\u001b[0m\n\u001b[1;32m      4\u001b[0m \u001b[0mposts\u001b[0m \u001b[0;34m=\u001b[0m \u001b[0mpd\u001b[0m\u001b[0;34m.\u001b[0m\u001b[0mDataFrame\u001b[0m\u001b[0;34m(\u001b[0m\u001b[0mposts\u001b[0m\u001b[0;34m,\u001b[0m\u001b[0mcolumns\u001b[0m\u001b[0;34m=\u001b[0m\u001b[0;34m[\u001b[0m\u001b[0;34m'title'\u001b[0m\u001b[0;34m,\u001b[0m \u001b[0;34m'score'\u001b[0m\u001b[0;34m,\u001b[0m \u001b[0;34m'id'\u001b[0m\u001b[0;34m,\u001b[0m \u001b[0;34m'subreddit'\u001b[0m\u001b[0;34m,\u001b[0m \u001b[0;34m'url'\u001b[0m\u001b[0;34m,\u001b[0m \u001b[0;34m'num_comments'\u001b[0m\u001b[0;34m,\u001b[0m \u001b[0;34m'body'\u001b[0m\u001b[0;34m,\u001b[0m \u001b[0;34m'created'\u001b[0m\u001b[0;34m]\u001b[0m\u001b[0;34m)\u001b[0m\u001b[0;34m\u001b[0m\u001b[0;34m\u001b[0m\u001b[0m\n\u001b[1;32m      5\u001b[0m \u001b[0mprint\u001b[0m\u001b[0;34m(\u001b[0m\u001b[0mposts\u001b[0m\u001b[0;34m)\u001b[0m\u001b[0;34m\u001b[0m\u001b[0;34m\u001b[0m\u001b[0m\n",
            "\u001b[0;31mTypeError\u001b[0m: 'Submission' object is not iterable"
          ]
        }
      ]
    },
    {
      "cell_type": "code",
      "source": [],
      "metadata": {
        "id": "ravW_PDKQYlJ"
      },
      "execution_count": null,
      "outputs": []
    }
  ]
}